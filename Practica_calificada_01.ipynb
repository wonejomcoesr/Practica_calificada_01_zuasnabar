{
  "nbformat": 4,
  "nbformat_minor": 0,
  "metadata": {
    "colab": {
      "provenance": [],
      "authorship_tag": "ABX9TyMABHP7qHCaSpXk8xVUVQsU",
      "include_colab_link": true
    },
    "kernelspec": {
      "name": "python3",
      "display_name": "Python 3"
    },
    "language_info": {
      "name": "python"
    }
  },
  "cells": [
    {
      "cell_type": "markdown",
      "metadata": {
        "id": "view-in-github",
        "colab_type": "text"
      },
      "source": [
        "<a href=\"https://colab.research.google.com/github/wonejomcoesr/Practica_calificada_01_zuasnabar/blob/main/Practica_calificada_01.ipynb\" target=\"_parent\"><img src=\"https://colab.research.google.com/assets/colab-badge.svg\" alt=\"Open In Colab\"/></a>"
      ]
    },
    {
      "cell_type": "markdown",
      "source": [
        "\"\"\"PRACTICA_CALIFICADA_01: ZUASNABAR HUAMAN, ALEXIS\"\"\""
      ],
      "metadata": {
        "id": "KPNoUEJYe2NN"
      }
    },
    {
      "cell_type": "markdown",
      "source": [
        "01"
      ],
      "metadata": {
        "id": "YSTMotCpfSys"
      }
    },
    {
      "cell_type": "code",
      "source": [
        "import pandas as pd\n",
        "import numpy as np\n",
        "\n",
        "# 1. Resolver con numpy los siguientes casos:\n",
        "\n",
        "# 1.1 Crea un vector de números enteros del 1 al 20\n",
        "print(\"Ejercicio: 01\\n\")\n",
        "vector_1_20 = np.arange(1, 21)\n",
        "print(\"Vector 1 a 20:\", vector_1_20)\n",
        "\n",
        "# 1.2 Crea una matriz de 3x3 con valores aleatorios entre 0 y 1\n",
        "print(\"\\nEjercicio: 02\")\n",
        "matriz_3x3 = np.random.rand(3,3)\n",
        "print(\"\\nMatriz 3x3 aleatoria entre 0 y 1:\\n\", matriz_3x3)\n",
        "\n",
        "# 1.3 Redimensiona una matriz de 4x4 a una matriz de 2x8\n",
        "print(\"\\nEjercicio: 03\")\n",
        "matriz_4x4 = np.arange(16).reshape(4,4)\n",
        "matriz_2x8 = matriz_4x4.reshape(2,8)\n",
        "print(\"\\nMatriz 4x4:\\n\", matriz_4x4)\n",
        "print(\"\\nMatriz redimensionada 2x8:\\n\", matriz_2x8)\n",
        "\n",
        "# 1.4 Crea un array de 10 números equidistantes entre 0 y 1\n",
        "print(\"\\nEjercicio: 04\")\n",
        "array_equidistante = np.linspace(0, 1, 10)\n",
        "print(\"\\nArray de 10 números equidistantes entre 0 y 1:\", array_equidistante)\n",
        "\n",
        "# 1.5 Concatena dos vectores vertical y horizontalmente\n",
        "print(\"\\nEjercicio: 05\")\n",
        "vec1 = np.array([1,2,3])\n",
        "vec2 = np.array([4,5,6])\n",
        "concat_horizontal = np.concatenate((vec1, vec2))\n",
        "concat_vertical = np.concatenate((vec1.reshape(-1,1), vec2.reshape(-1,1)), axis=1)\n",
        "print(\"\\nConcatenación horizontal:\", concat_horizontal)\n",
        "print(\"Concatenación vertical:\\n\", concat_vertical)"
      ],
      "metadata": {
        "colab": {
          "base_uri": "https://localhost:8080/"
        },
        "id": "HDWhhflIezeV",
        "outputId": "e6d84ec6-0076-41de-9d01-c30df42fcce9"
      },
      "execution_count": 6,
      "outputs": [
        {
          "output_type": "stream",
          "name": "stdout",
          "text": [
            "Ejercicio: 01\n",
            "\n",
            "Vector 1 a 20: [ 1  2  3  4  5  6  7  8  9 10 11 12 13 14 15 16 17 18 19 20]\n",
            "\n",
            "Ejercicio: 02\n",
            "\n",
            "Matriz 3x3 aleatoria entre 0 y 1:\n",
            " [[0.34480363 0.26539661 0.8506273 ]\n",
            " [0.81599831 0.60102573 0.55381904]\n",
            " [0.17956    0.18573808 0.31041592]]\n",
            "\n",
            "Ejercicio: 03\n",
            "\n",
            "Matriz 4x4:\n",
            " [[ 0  1  2  3]\n",
            " [ 4  5  6  7]\n",
            " [ 8  9 10 11]\n",
            " [12 13 14 15]]\n",
            "\n",
            "Matriz redimensionada 2x8:\n",
            " [[ 0  1  2  3  4  5  6  7]\n",
            " [ 8  9 10 11 12 13 14 15]]\n",
            "\n",
            "Ejercicio: 04\n",
            "\n",
            "Array de 10 números equidistantes entre 0 y 1: [0.         0.11111111 0.22222222 0.33333333 0.44444444 0.55555556\n",
            " 0.66666667 0.77777778 0.88888889 1.        ]\n",
            "\n",
            "Ejercicio: 05\n",
            "\n",
            "Concatenación horizontal: [1 2 3 4 5 6]\n",
            "Concatenación vertical:\n",
            " [[1 4]\n",
            " [2 5]\n",
            " [3 6]]\n"
          ]
        }
      ]
    },
    {
      "cell_type": "markdown",
      "source": [
        "02\n"
      ],
      "metadata": {
        "id": "W1ylHkiNfVBN"
      }
    },
    {
      "cell_type": "code",
      "source": [
        "# 2. Resolver las siguientes operaciones:\n",
        "\n",
        "# Vectores para operaciones\n",
        "v1 = np.array([1,2,3])\n",
        "v2 = np.array([4,5,6])\n",
        "\n",
        "# 2.1 Suma, resta, multiplicación y división de dos vectores\n",
        "print(\"Ejercicio: 01\")\n",
        "suma = v1 + v2\n",
        "resta = v1 - v2\n",
        "multiplicacion = v1 * v2\n",
        "division = v1 / v2\n",
        "print(\"\\nSuma:\", suma)\n",
        "print(\"Resta:\", resta)\n",
        "print(\"Multiplicación:\", multiplicacion)\n",
        "print(\"División:\", division)\n",
        "\n",
        "# 2.2 Media, mediana y desviación estándar de un vector\n",
        "print(\"\\nEjercicio: 02\")\n",
        "media = np.mean(v1)\n",
        "mediana = np.median(v1)\n",
        "desviacion = np.std(v1)\n",
        "print(\"\\nMedia:\", media)\n",
        "print(\"Mediana:\", mediana)\n",
        "print(\"Desviación estándar:\", desviacion)\n",
        "\n",
        "# 2.3 Normaliza un vector dividiendo cada elemento por el valor máximo\n",
        "print(\"\\nEjercicio: 03\")\n",
        "v1_normalizado = v1 / np.max(v1)\n",
        "print(\"\\nVector normalizado:\", v1_normalizado)\n",
        "\n",
        "# 2.4 Índice del valor máximo y mínimo\n",
        "print(\"\\nEjercicio: 04\")\n",
        "indice_max = np.argmax(v1)\n",
        "indice_min = np.argmin(v1)\n",
        "print(\"\\nÍndice valor máximo:\", indice_max)\n",
        "print(\"Índice valor mínimo:\", indice_min)\n",
        "\n",
        "# 2.5 Multiplicación matricial entre dos matrices 3x3\n",
        "print(\"\\nEjercicio: 05\")\n",
        "m1 = np.random.rand(3,3)\n",
        "m2 = np.random.rand(3,3)\n",
        "producto_matricial = np.dot(m1, m2)\n",
        "print(\"\\nProducto matricial 3x3:\\n\", producto_matricial)"
      ],
      "metadata": {
        "colab": {
          "base_uri": "https://localhost:8080/"
        },
        "id": "zgB5PemFfWp9",
        "outputId": "0dfbbbb9-7841-4881-994f-f4fd59835918"
      },
      "execution_count": 9,
      "outputs": [
        {
          "output_type": "stream",
          "name": "stdout",
          "text": [
            "Ejercicio: 01\n",
            "\n",
            "Suma: [5 7 9]\n",
            "Resta: [-3 -3 -3]\n",
            "Multiplicación: [ 4 10 18]\n",
            "División: [0.25 0.4  0.5 ]\n",
            "\n",
            "Ejercicio: 02\n",
            "\n",
            "Media: 2.0\n",
            "Mediana: 2.0\n",
            "Desviación estándar: 0.816496580927726\n",
            "\n",
            "Ejercicio: 03\n",
            "\n",
            "Vector normalizado: [0.33333333 0.66666667 1.        ]\n",
            "\n",
            "Ejercicio: 04\n",
            "\n",
            "Índice valor máximo: 2\n",
            "Índice valor mínimo: 0\n",
            "\n",
            "Ejercicio: 05\n",
            "\n",
            "Producto matricial 3x3:\n",
            " [[1.25465987 1.58644014 0.53003577]\n",
            " [0.35666043 0.68053393 0.27480702]\n",
            " [1.14796962 1.5536975  0.59542664]]\n"
          ]
        }
      ]
    },
    {
      "cell_type": "markdown",
      "source": [
        "03"
      ],
      "metadata": {
        "id": "J-iYq4T5fZNl"
      }
    },
    {
      "cell_type": "code",
      "source": [
        "# 3. Resolver con numpy los siguientes casos:\n",
        "\n",
        "vector_enteros = np.array([1,2,3,4,5,6,7,8,9,10,0,-1,-2,51,60,55])\n",
        "\n",
        "# 3.1 Selecciona los elementos pares\n",
        "print(\"Ejercicio: 01\")\n",
        "pares = vector_enteros[vector_enteros % 2 == 0]\n",
        "print(\"\\nElementos pares:\", pares)\n",
        "\n",
        "# 3.2 Filtra valores mayores que 5\n",
        "print(\"\\nEjercicio: 02\")\n",
        "mayores_5 = vector_enteros[vector_enteros > 5]\n",
        "print(\"Valores mayores que 5:\", mayores_5)\n",
        "\n",
        "# 3.3 Filtra valores iguales a cero\n",
        "print(\"\\nEjercicio: 03\")\n",
        "iguales_cero = vector_enteros[vector_enteros == 0]\n",
        "print(\"Valores iguales a 0:\", iguales_cero)\n",
        "\n",
        "# 3.4 Filtra valores negativos\n",
        "print(\"\\nEjercicio: 04\")\n",
        "negativos = vector_enteros[vector_enteros < 0]\n",
        "print(\"Valores negativos:\", negativos)\n",
        "\n",
        "# 3.5 Aplica la media a valores mayores de 50\n",
        "print(\"\\nEjercicio: 05\")\n",
        "media_mayores_50 = np.mean(vector_enteros[vector_enteros > 50])\n",
        "print(\"Media de valores mayores de 50:\", media_mayores_50)"
      ],
      "metadata": {
        "colab": {
          "base_uri": "https://localhost:8080/"
        },
        "id": "mKDQsL2GfaGN",
        "outputId": "1bda526e-2c1a-4d5e-a520-f15a94036861"
      },
      "execution_count": 10,
      "outputs": [
        {
          "output_type": "stream",
          "name": "stdout",
          "text": [
            "Ejercicio: 01\n",
            "\n",
            "Elementos pares: [ 2  4  6  8 10  0 -2 60]\n",
            "\n",
            "Ejercicio: 02\n",
            "Valores mayores que 5: [ 6  7  8  9 10 51 60 55]\n",
            "\n",
            "Ejercicio: 03\n",
            "Valores iguales a 0: [0]\n",
            "\n",
            "Ejercicio: 04\n",
            "Valores negativos: [-1 -2]\n",
            "\n",
            "Ejercicio: 05\n",
            "Media de valores mayores de 50: 55.333333333333336\n"
          ]
        }
      ]
    },
    {
      "cell_type": "markdown",
      "source": [
        "04"
      ],
      "metadata": {
        "id": "vyIK9iSofcnz"
      }
    },
    {
      "cell_type": "code",
      "source": [
        "# 4. Resolver con numpy los siguientes casos:\n",
        "\n",
        "# 4.1 Crea un vector de 10 elementos y reemplaza valores mayores que 5 con 0\n",
        "print(\"Ejercicio: 01\")\n",
        "vec_10 = np.array([1,3,7,9,5,6,2,8,4,10])\n",
        "vec_10[vec_10 > 5] = 0\n",
        "print(\"\\nVector con valores mayores a 5 reemplazados con 0:\", vec_10)\n",
        "\n",
        "# 4.2 Combina dos vectores booleanos con AND (&) y OR (|)\n",
        "print(\"\\nEjercicio: 02\")\n",
        "bool1 = np.array([True, False, True, False])\n",
        "bool2 = np.array([True, True, False, False])\n",
        "and_result = bool1 & bool2\n",
        "or_result = bool1 | bool2\n",
        "print(\"\\nAND:\", and_result)\n",
        "print(\"OR:\", or_result)\n",
        "\n",
        "# 4.3 Cuenta cantidad de valores en un vector que son múltiplos de 3\n",
        "print(\"\\nEjercicio: 03\")\n",
        "vec_mult_3 = np.array([3,6,7,9,10,12,13])\n",
        "cantidad_mult_3 = np.sum(vec_mult_3 % 3 == 0)\n",
        "print(\"\\nCantidad múltiplos de 3:\", cantidad_mult_3)\n",
        "\n",
        "# 4.4 Índices de elementos no nulos (np.nonzero)\n",
        "print(\"\\nEjercicio: 04\")\n",
        "vec_nulos = np.array([0, 1, 2, 0, 3, 0])\n",
        "indices_no_nulos = np.nonzero(vec_nulos)[0]\n",
        "print(\"Índices elementos no nulos:\", indices_no_nulos)\n",
        "\n",
        "# 4.5 Comprueba si todos los elementos en un array son mayores que un valor dado\n",
        "print(\"\\nEjercicio: 05\")\n",
        "valor_usuario = 2\n",
        "array_check = np.array([3,4,5,6])\n",
        "todos_mayores = np.all(array_check > valor_usuario)\n",
        "print(f\"\\n¿Todos los elementos son mayores que {valor_usuario}?:\", todos_mayores)"
      ],
      "metadata": {
        "colab": {
          "base_uri": "https://localhost:8080/"
        },
        "id": "DN7fg_SjfdY0",
        "outputId": "908a0f00-adb8-434b-99d7-db7c243a0a7c"
      },
      "execution_count": 11,
      "outputs": [
        {
          "output_type": "stream",
          "name": "stdout",
          "text": [
            "Ejercicio: 01\n",
            "\n",
            "Vector con valores mayores a 5 reemplazados con 0: [1 3 0 0 5 0 2 0 4 0]\n",
            "\n",
            "Ejercicio: 02\n",
            "\n",
            "AND: [ True False False False]\n",
            "OR: [ True  True  True False]\n",
            "\n",
            "Ejercicio: 03\n",
            "\n",
            "Cantidad múltiplos de 3: 4\n",
            "\n",
            "Ejercicio: 04\n",
            "Índices elementos no nulos: [1 2 4]\n",
            "\n",
            "Ejercicio: 05\n",
            "\n",
            "¿Todos los elementos son mayores que 2?: True\n"
          ]
        }
      ]
    },
    {
      "cell_type": "markdown",
      "source": [
        "05"
      ],
      "metadata": {
        "id": "19xtHTr7fe8U"
      }
    },
    {
      "cell_type": "code",
      "source": [
        "# 5. Resolver con numpy los siguientes casos:\n",
        "\n",
        "# 5.1 Calcula el cuadrado de cada elemento en un vector\n",
        "print(\"Ejercicio: 01\")\n",
        "vector_cuadrado = np.array([1,2,3,4,5])\n",
        "cuadrado = vector_cuadrado ** 2\n",
        "print(\"\\nCuadrado de cada elemento:\", cuadrado)\n",
        "\n",
        "# 5.2 Utiliza la función exponencial para elevar todos los elementos a la misma potencia\n",
        "print(\"\\nEjercicio: 02\")\n",
        "exponencial = np.exp(vector_cuadrado)\n",
        "print(\"Función exponencial aplicada:\", exponencial)\n",
        "\n",
        "# 5.3 Encuentra los valores máximos y mínimos en cada fila de una matriz\n",
        "print(\"\\nEjercicio: 03\")\n",
        "matriz_3x4 = np.array([[1,5,2,4],[3,0,6,8],[7,3,9,1]])\n",
        "max_filas = np.max(matriz_3x4, axis=1)\n",
        "min_filas = np.min(matriz_3x4, axis=1)\n",
        "print(\"\\nMáximos por fila:\", max_filas)\n",
        "print(\"Mínimos por fila:\", min_filas)\n",
        "\n",
        "# 5.4 Aplica la función sin a todos los elementos y almacena en otro vector\n",
        "print(\"\\nEjercicio: 04\")\n",
        "sin_vector = np.sin(vector_cuadrado)\n",
        "print(\"\\nSeno de cada elemento:\", sin_vector)\n",
        "\n",
        "# 5.5 Realiza la transpuesta de una matriz 3x4\n",
        "print(\"\\nEjercicio: 05\")\n",
        "transpuesta = matriz_3x4.T\n",
        "print(\"\\nTranspuesta de matriz 3x4:\\n\", transpuesta)"
      ],
      "metadata": {
        "colab": {
          "base_uri": "https://localhost:8080/"
        },
        "id": "FezZfOi0ffpr",
        "outputId": "e7d60c6a-9ef7-4510-ed86-5ad116305a8e"
      },
      "execution_count": 12,
      "outputs": [
        {
          "output_type": "stream",
          "name": "stdout",
          "text": [
            "Ejercicio: 01\n",
            "\n",
            "Cuadrado de cada elemento: [ 1  4  9 16 25]\n",
            "\n",
            "Ejercicio: 02\n",
            "Función exponencial aplicada: [  2.71828183   7.3890561   20.08553692  54.59815003 148.4131591 ]\n",
            "\n",
            "Ejercicio: 03\n",
            "\n",
            "Máximos por fila: [5 8 9]\n",
            "Mínimos por fila: [1 0 1]\n",
            "\n",
            "Ejercicio: 04\n",
            "\n",
            "Seno de cada elemento: [ 0.84147098  0.90929743  0.14112001 -0.7568025  -0.95892427]\n",
            "\n",
            "Ejercicio: 05\n",
            "\n",
            "Transpuesta de matriz 3x4:\n",
            " [[1 3 7]\n",
            " [5 0 3]\n",
            " [2 6 9]\n",
            " [4 8 1]]\n"
          ]
        }
      ]
    },
    {
      "cell_type": "markdown",
      "source": [
        "06"
      ],
      "metadata": {
        "id": "BYToDKs0gnT8"
      }
    },
    {
      "cell_type": "code",
      "source": [
        "# 6. Crear DataFrame con columnas: 'Nombre', 'Edad', 'Ciudad' con al menos 10 registros\n",
        "data = {\n",
        "    'Nombre': ['Ana', 'Luis', 'Carlos', 'María', 'Juan', 'Sofía', 'Pedro', 'Lucía', 'Diego', 'Marta'],\n",
        "    'Edad': [23, 35, 42, 28, 19, 31, 45, 22, 34, 27],\n",
        "    'Ciudad': ['Lima', 'Cusco', 'Lima', 'Arequipa', 'Cusco', 'Lima', 'Arequipa', 'Cusco', 'Lima', 'Arequipa']\n",
        "}\n",
        "\n",
        "df = pd.DataFrame(data)\n",
        "print(\"DataFrame original:\\n\", df)\n",
        "\n",
        "# 6.1 Filtrar personas que tienen más de 25 años\n",
        "print(\"\\nEjercicio: 01\")\n",
        "mayores_25 = df[df['Edad'] > 25]\n",
        "print(\"\\nPersonas mayores de 25 años:\\n\", mayores_25)\n",
        "\n",
        "# 6.2 Añadir columna 'Ingresos' con cualquier valor (por ejemplo, aleatorio)\n",
        "print(\"\\nEjercicio: 02\")\n",
        "df['Ingresos'] = np.random.randint(1000, 5000, size=len(df))\n",
        "print(\"\\nDataFrame con columna Ingresos:\\n\", df)\n",
        "\n",
        "# 6.3 Promedio de la edad en el DataFrame\n",
        "print(\"\\nEjercicio: 03\")\n",
        "promedio_edad = df['Edad'].mean()\n",
        "print(\"\\nPromedio de edad:\", promedio_edad)\n",
        "\n",
        "# 6.4 Contar cuántas veces aparece cada ciudad\n",
        "print(\"\\nEjercicio: 04\")\n",
        "conteo_ciudad = df['Ciudad'].value_counts()\n",
        "print(\"\\nConteo por ciudad:\\n\", conteo_ciudad)\n",
        "\n",
        "# 6.5 Agrupar por 'Ciudad' y calcular promedio de 'Edad' para cada ciudad\n",
        "print(\"\\nEjercicio: 05\")\n",
        "promedio_edad_ciudad = df.groupby('Ciudad')['Edad'].mean()\n",
        "print(\"\\nPromedio de edad por ciudad:\\n\", promedio_edad_ciudad)\n",
        "\n",
        "# 6.6 Ordenar DataFrame por 'Edad' ascendente y luego descendente\n",
        "print(\"\\nEjercicio: 06\")\n",
        "orden_asc = df.sort_values(by='Edad')\n",
        "orden_desc = df.sort_values(by='Edad', ascending=False)\n",
        "print(\"\\nOrden ascendente por Edad:\\n\", orden_asc)\n",
        "print(\"\\nOrden descendente por Edad:\\n\", orden_desc)\n"
      ],
      "metadata": {
        "colab": {
          "base_uri": "https://localhost:8080/"
        },
        "id": "BWhMilhBgrw8",
        "outputId": "d24f6484-789e-4484-ac7c-b451c7ee3bfd"
      },
      "execution_count": 14,
      "outputs": [
        {
          "output_type": "stream",
          "name": "stdout",
          "text": [
            "DataFrame original:\n",
            "    Nombre  Edad    Ciudad\n",
            "0     Ana    23      Lima\n",
            "1    Luis    35     Cusco\n",
            "2  Carlos    42      Lima\n",
            "3   María    28  Arequipa\n",
            "4    Juan    19     Cusco\n",
            "5   Sofía    31      Lima\n",
            "6   Pedro    45  Arequipa\n",
            "7   Lucía    22     Cusco\n",
            "8   Diego    34      Lima\n",
            "9   Marta    27  Arequipa\n",
            "\n",
            "Ejercicio: 01\n",
            "\n",
            "Personas mayores de 25 años:\n",
            "    Nombre  Edad    Ciudad\n",
            "1    Luis    35     Cusco\n",
            "2  Carlos    42      Lima\n",
            "3   María    28  Arequipa\n",
            "5   Sofía    31      Lima\n",
            "6   Pedro    45  Arequipa\n",
            "8   Diego    34      Lima\n",
            "9   Marta    27  Arequipa\n",
            "\n",
            "Ejercicio: 02\n",
            "\n",
            "DataFrame con columna Ingresos:\n",
            "    Nombre  Edad    Ciudad  Ingresos\n",
            "0     Ana    23      Lima      2171\n",
            "1    Luis    35     Cusco      1451\n",
            "2  Carlos    42      Lima      1748\n",
            "3   María    28  Arequipa      2433\n",
            "4    Juan    19     Cusco      3397\n",
            "5   Sofía    31      Lima      4473\n",
            "6   Pedro    45  Arequipa      1935\n",
            "7   Lucía    22     Cusco      4706\n",
            "8   Diego    34      Lima      1163\n",
            "9   Marta    27  Arequipa      1590\n",
            "\n",
            "Ejercicio: 03\n",
            "\n",
            "Promedio de edad: 30.6\n",
            "\n",
            "Ejercicio: 04\n",
            "\n",
            "Conteo por ciudad:\n",
            " Ciudad\n",
            "Lima        4\n",
            "Cusco       3\n",
            "Arequipa    3\n",
            "Name: count, dtype: int64\n",
            "\n",
            "Ejercicio: 05\n",
            "\n",
            "Promedio de edad por ciudad:\n",
            " Ciudad\n",
            "Arequipa    33.333333\n",
            "Cusco       25.333333\n",
            "Lima        32.500000\n",
            "Name: Edad, dtype: float64\n",
            "\n",
            "Ejercicio: 06\n",
            "\n",
            "Orden ascendente por Edad:\n",
            "    Nombre  Edad    Ciudad  Ingresos\n",
            "4    Juan    19     Cusco      3397\n",
            "7   Lucía    22     Cusco      4706\n",
            "0     Ana    23      Lima      2171\n",
            "9   Marta    27  Arequipa      1590\n",
            "3   María    28  Arequipa      2433\n",
            "5   Sofía    31      Lima      4473\n",
            "8   Diego    34      Lima      1163\n",
            "1    Luis    35     Cusco      1451\n",
            "2  Carlos    42      Lima      1748\n",
            "6   Pedro    45  Arequipa      1935\n",
            "\n",
            "Orden descendente por Edad:\n",
            "    Nombre  Edad    Ciudad  Ingresos\n",
            "6   Pedro    45  Arequipa      1935\n",
            "2  Carlos    42      Lima      1748\n",
            "1    Luis    35     Cusco      1451\n",
            "8   Diego    34      Lima      1163\n",
            "5   Sofía    31      Lima      4473\n",
            "3   María    28  Arequipa      2433\n",
            "9   Marta    27  Arequipa      1590\n",
            "0     Ana    23      Lima      2171\n",
            "7   Lucía    22     Cusco      4706\n",
            "4    Juan    19     Cusco      3397\n"
          ]
        }
      ]
    },
    {
      "cell_type": "markdown",
      "source": [
        "07\n"
      ],
      "metadata": {
        "id": "apb1Ya41hTn8"
      }
    },
    {
      "cell_type": "code",
      "source": [
        "# 7. Filtros sobre archivo adjunto (asumo que es un CSV o tabla con columnas que incluyan 'carrera', 'año', 'semestre')\n",
        "\n",
        "#Importamos el archivo excel\n",
        "\n",
        "df = pd.read_excel('/content/universidad.xlsx')\n",
        "\n",
        "# 7.1 Cuántos son de Ing. en sistemas\n",
        "print(\"Ejercicio: 01\")\n",
        "cantidad_sistemas = df[df['Carrera'] == 'Ing. en sistemas'].shape[0]\n",
        "print(\"Cantidad de Ing. en sistemas:\", cantidad_sistemas)\n",
        "\n",
        "# 7.2 Cuántos son de Lic. en derecho\n",
        "print(\"\\nEjercicio: 02\")\n",
        "cantidad_derecho = df[df['Carrera'] == 'Lic. en derecho'].shape[0]\n",
        "print(\"Cantidad de Ing. en derecho:\", cantidad_derecho)\n",
        "\n",
        "# 7.3 Cuántos se inscribieron en 2015\n",
        "print(\"\\nEjercicio: 03\")\n",
        "cantidad_2015 = df[df['Inscripción'].astype(str).str.startswith('2015')].shape[0]\n",
        "print(\"Cantidad inscritos en 2015:\", cantidad_2015)\n",
        "\n",
        "# 7.4 Cuántos son del 1 y 2 semestre\n",
        "print(\"\\nEjercicio: 04\")\n",
        "cantidad_semestres = df[df['Semestre'].isin([1,2])].shape[0]\n",
        "print(\"Cantidad inscritos en 1 y 2 semestre:\", cantidad_semestres)"
      ],
      "metadata": {
        "colab": {
          "base_uri": "https://localhost:8080/"
        },
        "id": "cjwFFISChUn0",
        "outputId": "79af0c4a-9272-474b-f829-09d7bacdf596"
      },
      "execution_count": 22,
      "outputs": [
        {
          "output_type": "stream",
          "name": "stdout",
          "text": [
            "Ejercicio: 01\n",
            "Cantidad de Ing. en sistemas: 13\n",
            "\n",
            "Ejercicio: 02\n",
            "Cantidad de Ing. en derecho: 17\n",
            "\n",
            "Ejercicio: 03\n",
            "Cantidad inscritos en 2015: 23\n",
            "\n",
            "Ejercicio: 04\n",
            "Cantidad inscritos en 1 y 2 semestre: 22\n"
          ]
        }
      ]
    }
  ]
}